{
 "cells": [
  {
   "cell_type": "code",
   "execution_count": 1,
   "id": "db870ffb-88bb-4055-8245-b296fbed3343",
   "metadata": {},
   "outputs": [],
   "source": [
    "import numpy as np\n",
    "import pandas as pd\n",
    "import re\n",
    "import nltk\n",
    "from nltk.corpus import stopwords\n",
    "from nltk.tokenize import word_tokenize, sent_tokenize"
   ]
  },
  {
   "cell_type": "code",
   "execution_count": 2,
   "id": "d6c619c5-6250-4718-9269-889302fb31ee",
   "metadata": {},
   "outputs": [],
   "source": [
    "# article_text = \"Just what is agility in the context of software engineering work? Ivar Jacobson [Jac02a] provides a useful di scussion: Agility has become today’s buzzword when describing a modern software process. Everyone is agile. An agile team is a nimble team able to appropriately respond to changes. Change is what software development is very much about. Changes in the software being built, changes to the team members, changes because of new technology, changes of all kinds that may have an impact on the product they build or the project that creates the product. Support for changes should be built-in everything we do in software, something we embrace because it is the heart and soul of software. An agile team recognizes that software is developed by individuals working in teams and that the skills of these people, their ability to collaborate is at the core for the success of the project.In Jacobson’s view, the pervasiveness of change is the primary driver for agility. Software engineers must be quick on their feet if they are to accommodate the rapid changes that Jacobson describes. But agility is more than an effective response to change. It also encompasses the philosophy espoused in the manifesto noted at the beginning of this chapter. It encourages team structures and attitudes that make communication (among team members, between technologists and business people, between software engineers and their managers) more facile. It emphasizes rapid delivery of operational software and deemphasizes the importance of intermediate work products (not always a good thing); it adopts the customer as a part of the development team and works to eliminate the “us and them” attitude that continues to pervade many software projects; it recognizes that planning in an uncertain world has its limits and that a project plan must be ﬂ exible. Agility can be applied to any software process. However, to accomplish this, it is essential that the process be designed in a way that allows the project team to adapt tasks and to streamline them, conduct planning in a way that understands the ﬂ uidity of an agile development approach, eliminate all but the most essential work products and keep them lean, and emphasize an incremental delivery strategy that gets working software to the customer as rapidly as feasible for the product type and operational environment. \""
   ]
  },
  {
   "cell_type": "code",
   "execution_count": 3,
   "id": "9f023e54-ea3c-41c7-8131-dd63c387d63d",
   "metadata": {},
   "outputs": [],
   "source": [
    "df = pd.read_csv('text_summarization.txt')\n",
    "article_text = df.to_string()"
   ]
  },
  {
   "cell_type": "code",
   "execution_count": 4,
   "id": "d6f018d8-d0b6-435d-a984-e97b3791fceb",
   "metadata": {},
   "outputs": [
    {
     "data": {
      "text/plain": [
       "'empty dataframe\\ncolumns: [just what is agility in the context of software engineering work? ivar jacobson [jac02a] provides a useful di scussion: agility has become today’s buzzword when describing a modern software process. everyone is agile. an agile team is a nimble team able to appropriately respond to changes. change is what software development is very much about. changes in the software being built, changes to the team members, changes because of new technology, changes of all kinds that may have an impact on the product they build or the project that creates the product. support for changes should be built-in everything we do in software, something we embrace because it is the heart and soul of software. an agile team recognizes that software is developed by individuals working in teams and that the skills of these people, their ability to collaborate is at the core for the success of the project.in jacobson’s view, the pervasiveness of change is the primary driver for agility. software engineers must be quick on their feet if they are to accommodate the rapid changes that jacobson describes. but agility is more than an effective response to change. it also encompasses the philosophy espoused in the manifesto noted at the beginning of this chapter. it encourages team structures and attitudes that make communication (among team members, between technologists and business people, between software engineers and their managers) more facile. it emphasizes rapid delivery of operational software and deemphasizes the importance of intermediate work products (not always a good thing); it adopts the customer as a part of the development team and works to eliminate the “us and them” attitude that continues to pervade many software projects; it recognizes that planning in an uncertain world has its limits and that a project plan must be ﬂ exible. agility can be applied to any software process. however, to accomplish this, it is essential that the process be designed in a way that allows the project team to adapt tasks and to streamline them, conduct planning in a way that understands the ﬂ uidity of an agile development approach, eliminate all but the most essential work products and keep them lean, and emphasize an incremental delivery strategy that gets working software to the customer as rapidly as feasible for the product type and operational environment. ]\\nindex: []'"
      ]
     },
     "execution_count": 4,
     "metadata": {},
     "output_type": "execute_result"
    }
   ],
   "source": [
    "# article_text = article_text.to_array()\n",
    "article_text = article_text.lower()\n",
    "article_text"
   ]
  },
  {
   "cell_type": "code",
   "execution_count": 5,
   "id": "93bfde24-b027-4c66-b7df-242cc0fbf243",
   "metadata": {},
   "outputs": [
    {
     "name": "stderr",
     "output_type": "stream",
     "text": [
      "<>:2: SyntaxWarning: invalid escape sequence '\\s'\n",
      "<>:2: SyntaxWarning: invalid escape sequence '\\s'\n",
      "C:\\Users\\Gaurav\\AppData\\Local\\Temp\\ipykernel_27276\\630440852.py:2: SyntaxWarning: invalid escape sequence '\\s'\n",
      "  clean_text = re.sub('\\s+', ' ', clean_text)\n"
     ]
    },
    {
     "data": {
      "text/plain": [
       "'empty dataframe columns just what is agility in the context of software engineering work ivar jacobson jac a provides a useful di scussion agility has become today s buzzword when describing a modern software process everyone is agile an agile team is a nimble team able to appropriately respond to changes change is what software development is very much about changes in the software being built changes to the team members changes because of new technology changes of all kinds that may have an impact on the product they build or the project that creates the product support for changes should be built in everything we do in software something we embrace because it is the heart and soul of software an agile team recognizes that software is developed by individuals working in teams and that the skills of these people their ability to collaborate is at the core for the success of the project in jacobson s view the pervasiveness of change is the primary driver for agility software engineers must be quick on their feet if they are to accommodate the rapid changes that jacobson describes but agility is more than an effective response to change it also encompasses the philosophy espoused in the manifesto noted at the beginning of this chapter it encourages team structures and attitudes that make communication among team members between technologists and business people between software engineers and their managers more facile it emphasizes rapid delivery of operational software and deemphasizes the importance of intermediate work products not always a good thing it adopts the customer as a part of the development team and works to eliminate the us and them attitude that continues to pervade many software projects it recognizes that planning in an uncertain world has its limits and that a project plan must be exible agility can be applied to any software process however to accomplish this it is essential that the process be designed in a way that allows the project team to adapt tasks and to streamline them conduct planning in a way that understands the uidity of an agile development approach eliminate all but the most essential work products and keep them lean and emphasize an incremental delivery strategy that gets working software to the customer as rapidly as feasible for the product type and operational environment index '"
      ]
     },
     "execution_count": 5,
     "metadata": {},
     "output_type": "execute_result"
    }
   ],
   "source": [
    "clean_text = re.sub('[^a-z]', ' ', article_text)\n",
    "clean_text = re.sub('\\s+', ' ', clean_text)\n",
    "\n",
    "clean_text"
   ]
  },
  {
   "cell_type": "code",
   "execution_count": 6,
   "id": "295d7034-5916-47ab-8425-2c178ec180ce",
   "metadata": {},
   "outputs": [
    {
     "name": "stderr",
     "output_type": "stream",
     "text": [
      "[nltk_data] Downloading package punkt_tab to\n",
      "[nltk_data]     C:\\Users\\Gaurav\\AppData\\Roaming\\nltk_data...\n",
      "[nltk_data]   Package punkt_tab is already up-to-date!\n"
     ]
    },
    {
     "data": {
      "text/plain": [
       "True"
      ]
     },
     "execution_count": 6,
     "metadata": {},
     "output_type": "execute_result"
    }
   ],
   "source": [
    "nltk.download('punkt_tab')"
   ]
  },
  {
   "cell_type": "code",
   "execution_count": 7,
   "id": "740d6a9c-5d62-4441-9fcc-a029bd92a661",
   "metadata": {},
   "outputs": [
    {
     "name": "stderr",
     "output_type": "stream",
     "text": [
      "[nltk_data] Downloading package stopwords to\n",
      "[nltk_data]     C:\\Users\\Gaurav\\AppData\\Roaming\\nltk_data...\n",
      "[nltk_data]   Package stopwords is already up-to-date!\n"
     ]
    },
    {
     "data": {
      "text/plain": [
       "True"
      ]
     },
     "execution_count": 7,
     "metadata": {},
     "output_type": "execute_result"
    }
   ],
   "source": [
    "nltk.download('stopwords')"
   ]
  },
  {
   "cell_type": "code",
   "execution_count": 8,
   "id": "c1f3443f-39d4-4797-9411-40904d3d2c29",
   "metadata": {},
   "outputs": [],
   "source": [
    "stop_words = set(stopwords.words('english'))\n",
    "stop_words.remove('not')\n",
    "\n",
    "word_frequencies = {}\n",
    "for word in word_tokenize(clean_text):\n",
    "    if word not in stop_words:\n",
    "        if word not in word_frequencies:\n",
    "            word_frequencies[word]=1\n",
    "        else:\n",
    "            word_frequencies[word] += 1"
   ]
  },
  {
   "cell_type": "code",
   "execution_count": 9,
   "id": "b55dbb9d-a644-4be5-9095-f1477e554b03",
   "metadata": {
    "scrolled": true
   },
   "outputs": [
    {
     "data": {
      "text/plain": [
       "{'empty': 1,\n",
       " 'dataframe': 1,\n",
       " 'columns': 1,\n",
       " 'agility': 5,\n",
       " 'context': 1,\n",
       " 'software': 13,\n",
       " 'engineering': 1,\n",
       " 'work': 3,\n",
       " 'ivar': 1,\n",
       " 'jacobson': 3,\n",
       " 'jac': 1,\n",
       " 'provides': 1,\n",
       " 'useful': 1,\n",
       " 'di': 1,\n",
       " 'scussion': 1,\n",
       " 'become': 1,\n",
       " 'today': 1,\n",
       " 'buzzword': 1,\n",
       " 'describing': 1,\n",
       " 'modern': 1,\n",
       " 'process': 3,\n",
       " 'everyone': 1,\n",
       " 'agile': 4,\n",
       " 'team': 8,\n",
       " 'nimble': 1,\n",
       " 'able': 1,\n",
       " 'appropriately': 1,\n",
       " 'respond': 1,\n",
       " 'changes': 7,\n",
       " 'change': 3,\n",
       " 'development': 3,\n",
       " 'much': 1,\n",
       " 'built': 2,\n",
       " 'members': 2,\n",
       " 'new': 1,\n",
       " 'technology': 1,\n",
       " 'kinds': 1,\n",
       " 'may': 1,\n",
       " 'impact': 1,\n",
       " 'product': 3,\n",
       " 'build': 1,\n",
       " 'project': 4,\n",
       " 'creates': 1,\n",
       " 'support': 1,\n",
       " 'everything': 1,\n",
       " 'something': 1,\n",
       " 'embrace': 1,\n",
       " 'heart': 1,\n",
       " 'soul': 1,\n",
       " 'recognizes': 2,\n",
       " 'developed': 1,\n",
       " 'individuals': 1,\n",
       " 'working': 2,\n",
       " 'teams': 1,\n",
       " 'skills': 1,\n",
       " 'people': 2,\n",
       " 'ability': 1,\n",
       " 'collaborate': 1,\n",
       " 'core': 1,\n",
       " 'success': 1,\n",
       " 'view': 1,\n",
       " 'pervasiveness': 1,\n",
       " 'primary': 1,\n",
       " 'driver': 1,\n",
       " 'engineers': 2,\n",
       " 'must': 2,\n",
       " 'quick': 1,\n",
       " 'feet': 1,\n",
       " 'accommodate': 1,\n",
       " 'rapid': 2,\n",
       " 'describes': 1,\n",
       " 'effective': 1,\n",
       " 'response': 1,\n",
       " 'also': 1,\n",
       " 'encompasses': 1,\n",
       " 'philosophy': 1,\n",
       " 'espoused': 1,\n",
       " 'manifesto': 1,\n",
       " 'noted': 1,\n",
       " 'beginning': 1,\n",
       " 'chapter': 1,\n",
       " 'encourages': 1,\n",
       " 'structures': 1,\n",
       " 'attitudes': 1,\n",
       " 'make': 1,\n",
       " 'communication': 1,\n",
       " 'among': 1,\n",
       " 'technologists': 1,\n",
       " 'business': 1,\n",
       " 'managers': 1,\n",
       " 'facile': 1,\n",
       " 'emphasizes': 1,\n",
       " 'delivery': 2,\n",
       " 'operational': 2,\n",
       " 'deemphasizes': 1,\n",
       " 'importance': 1,\n",
       " 'intermediate': 1,\n",
       " 'products': 2,\n",
       " 'not': 1,\n",
       " 'always': 1,\n",
       " 'good': 1,\n",
       " 'thing': 1,\n",
       " 'adopts': 1,\n",
       " 'customer': 2,\n",
       " 'part': 1,\n",
       " 'works': 1,\n",
       " 'eliminate': 2,\n",
       " 'us': 1,\n",
       " 'attitude': 1,\n",
       " 'continues': 1,\n",
       " 'pervade': 1,\n",
       " 'many': 1,\n",
       " 'projects': 1,\n",
       " 'planning': 2,\n",
       " 'uncertain': 1,\n",
       " 'world': 1,\n",
       " 'limits': 1,\n",
       " 'plan': 1,\n",
       " 'exible': 1,\n",
       " 'applied': 1,\n",
       " 'however': 1,\n",
       " 'accomplish': 1,\n",
       " 'essential': 2,\n",
       " 'designed': 1,\n",
       " 'way': 2,\n",
       " 'allows': 1,\n",
       " 'adapt': 1,\n",
       " 'tasks': 1,\n",
       " 'streamline': 1,\n",
       " 'conduct': 1,\n",
       " 'understands': 1,\n",
       " 'uidity': 1,\n",
       " 'approach': 1,\n",
       " 'keep': 1,\n",
       " 'lean': 1,\n",
       " 'emphasize': 1,\n",
       " 'incremental': 1,\n",
       " 'strategy': 1,\n",
       " 'gets': 1,\n",
       " 'rapidly': 1,\n",
       " 'feasible': 1,\n",
       " 'type': 1,\n",
       " 'environment': 1,\n",
       " 'index': 1}"
      ]
     },
     "execution_count": 9,
     "metadata": {},
     "output_type": "execute_result"
    }
   ],
   "source": [
    "word_frequencies"
   ]
  },
  {
   "cell_type": "code",
   "execution_count": 10,
   "id": "83f0d442-0979-4de6-941f-bb59546c2c10",
   "metadata": {},
   "outputs": [],
   "source": [
    "maximum_frequency = max(word_frequencies.values())\n",
    "\n",
    "for word in word_frequencies:\n",
    "    word_frequencies[word] /= maximum_frequency"
   ]
  },
  {
   "cell_type": "code",
   "execution_count": 11,
   "id": "282a67eb-56bb-4d2e-9faf-a515efb7898d",
   "metadata": {
    "scrolled": true
   },
   "outputs": [
    {
     "data": {
      "text/plain": [
       "{'empty': 0.07692307692307693,\n",
       " 'dataframe': 0.07692307692307693,\n",
       " 'columns': 0.07692307692307693,\n",
       " 'agility': 0.38461538461538464,\n",
       " 'context': 0.07692307692307693,\n",
       " 'software': 1.0,\n",
       " 'engineering': 0.07692307692307693,\n",
       " 'work': 0.23076923076923078,\n",
       " 'ivar': 0.07692307692307693,\n",
       " 'jacobson': 0.23076923076923078,\n",
       " 'jac': 0.07692307692307693,\n",
       " 'provides': 0.07692307692307693,\n",
       " 'useful': 0.07692307692307693,\n",
       " 'di': 0.07692307692307693,\n",
       " 'scussion': 0.07692307692307693,\n",
       " 'become': 0.07692307692307693,\n",
       " 'today': 0.07692307692307693,\n",
       " 'buzzword': 0.07692307692307693,\n",
       " 'describing': 0.07692307692307693,\n",
       " 'modern': 0.07692307692307693,\n",
       " 'process': 0.23076923076923078,\n",
       " 'everyone': 0.07692307692307693,\n",
       " 'agile': 0.3076923076923077,\n",
       " 'team': 0.6153846153846154,\n",
       " 'nimble': 0.07692307692307693,\n",
       " 'able': 0.07692307692307693,\n",
       " 'appropriately': 0.07692307692307693,\n",
       " 'respond': 0.07692307692307693,\n",
       " 'changes': 0.5384615384615384,\n",
       " 'change': 0.23076923076923078,\n",
       " 'development': 0.23076923076923078,\n",
       " 'much': 0.07692307692307693,\n",
       " 'built': 0.15384615384615385,\n",
       " 'members': 0.15384615384615385,\n",
       " 'new': 0.07692307692307693,\n",
       " 'technology': 0.07692307692307693,\n",
       " 'kinds': 0.07692307692307693,\n",
       " 'may': 0.07692307692307693,\n",
       " 'impact': 0.07692307692307693,\n",
       " 'product': 0.23076923076923078,\n",
       " 'build': 0.07692307692307693,\n",
       " 'project': 0.3076923076923077,\n",
       " 'creates': 0.07692307692307693,\n",
       " 'support': 0.07692307692307693,\n",
       " 'everything': 0.07692307692307693,\n",
       " 'something': 0.07692307692307693,\n",
       " 'embrace': 0.07692307692307693,\n",
       " 'heart': 0.07692307692307693,\n",
       " 'soul': 0.07692307692307693,\n",
       " 'recognizes': 0.15384615384615385,\n",
       " 'developed': 0.07692307692307693,\n",
       " 'individuals': 0.07692307692307693,\n",
       " 'working': 0.15384615384615385,\n",
       " 'teams': 0.07692307692307693,\n",
       " 'skills': 0.07692307692307693,\n",
       " 'people': 0.15384615384615385,\n",
       " 'ability': 0.07692307692307693,\n",
       " 'collaborate': 0.07692307692307693,\n",
       " 'core': 0.07692307692307693,\n",
       " 'success': 0.07692307692307693,\n",
       " 'view': 0.07692307692307693,\n",
       " 'pervasiveness': 0.07692307692307693,\n",
       " 'primary': 0.07692307692307693,\n",
       " 'driver': 0.07692307692307693,\n",
       " 'engineers': 0.15384615384615385,\n",
       " 'must': 0.15384615384615385,\n",
       " 'quick': 0.07692307692307693,\n",
       " 'feet': 0.07692307692307693,\n",
       " 'accommodate': 0.07692307692307693,\n",
       " 'rapid': 0.15384615384615385,\n",
       " 'describes': 0.07692307692307693,\n",
       " 'effective': 0.07692307692307693,\n",
       " 'response': 0.07692307692307693,\n",
       " 'also': 0.07692307692307693,\n",
       " 'encompasses': 0.07692307692307693,\n",
       " 'philosophy': 0.07692307692307693,\n",
       " 'espoused': 0.07692307692307693,\n",
       " 'manifesto': 0.07692307692307693,\n",
       " 'noted': 0.07692307692307693,\n",
       " 'beginning': 0.07692307692307693,\n",
       " 'chapter': 0.07692307692307693,\n",
       " 'encourages': 0.07692307692307693,\n",
       " 'structures': 0.07692307692307693,\n",
       " 'attitudes': 0.07692307692307693,\n",
       " 'make': 0.07692307692307693,\n",
       " 'communication': 0.07692307692307693,\n",
       " 'among': 0.07692307692307693,\n",
       " 'technologists': 0.07692307692307693,\n",
       " 'business': 0.07692307692307693,\n",
       " 'managers': 0.07692307692307693,\n",
       " 'facile': 0.07692307692307693,\n",
       " 'emphasizes': 0.07692307692307693,\n",
       " 'delivery': 0.15384615384615385,\n",
       " 'operational': 0.15384615384615385,\n",
       " 'deemphasizes': 0.07692307692307693,\n",
       " 'importance': 0.07692307692307693,\n",
       " 'intermediate': 0.07692307692307693,\n",
       " 'products': 0.15384615384615385,\n",
       " 'not': 0.07692307692307693,\n",
       " 'always': 0.07692307692307693,\n",
       " 'good': 0.07692307692307693,\n",
       " 'thing': 0.07692307692307693,\n",
       " 'adopts': 0.07692307692307693,\n",
       " 'customer': 0.15384615384615385,\n",
       " 'part': 0.07692307692307693,\n",
       " 'works': 0.07692307692307693,\n",
       " 'eliminate': 0.15384615384615385,\n",
       " 'us': 0.07692307692307693,\n",
       " 'attitude': 0.07692307692307693,\n",
       " 'continues': 0.07692307692307693,\n",
       " 'pervade': 0.07692307692307693,\n",
       " 'many': 0.07692307692307693,\n",
       " 'projects': 0.07692307692307693,\n",
       " 'planning': 0.15384615384615385,\n",
       " 'uncertain': 0.07692307692307693,\n",
       " 'world': 0.07692307692307693,\n",
       " 'limits': 0.07692307692307693,\n",
       " 'plan': 0.07692307692307693,\n",
       " 'exible': 0.07692307692307693,\n",
       " 'applied': 0.07692307692307693,\n",
       " 'however': 0.07692307692307693,\n",
       " 'accomplish': 0.07692307692307693,\n",
       " 'essential': 0.15384615384615385,\n",
       " 'designed': 0.07692307692307693,\n",
       " 'way': 0.15384615384615385,\n",
       " 'allows': 0.07692307692307693,\n",
       " 'adapt': 0.07692307692307693,\n",
       " 'tasks': 0.07692307692307693,\n",
       " 'streamline': 0.07692307692307693,\n",
       " 'conduct': 0.07692307692307693,\n",
       " 'understands': 0.07692307692307693,\n",
       " 'uidity': 0.07692307692307693,\n",
       " 'approach': 0.07692307692307693,\n",
       " 'keep': 0.07692307692307693,\n",
       " 'lean': 0.07692307692307693,\n",
       " 'emphasize': 0.07692307692307693,\n",
       " 'incremental': 0.07692307692307693,\n",
       " 'strategy': 0.07692307692307693,\n",
       " 'gets': 0.07692307692307693,\n",
       " 'rapidly': 0.07692307692307693,\n",
       " 'feasible': 0.07692307692307693,\n",
       " 'type': 0.07692307692307693,\n",
       " 'environment': 0.07692307692307693,\n",
       " 'index': 0.07692307692307693}"
      ]
     },
     "execution_count": 11,
     "metadata": {},
     "output_type": "execute_result"
    }
   ],
   "source": [
    "word_frequencies"
   ]
  },
  {
   "cell_type": "code",
   "execution_count": 12,
   "id": "74589703-2a92-40c9-9b38-33e4d2a85f10",
   "metadata": {
    "scrolled": true
   },
   "outputs": [
    {
     "data": {
      "text/plain": [
       "['empty dataframe\\ncolumns: [just what is agility in the context of software engineering work?',\n",
       " 'ivar jacobson [jac02a] provides a useful di scussion: agility has become today’s buzzword when describing a modern software process.',\n",
       " 'everyone is agile.',\n",
       " 'an agile team is a nimble team able to appropriately respond to changes.',\n",
       " 'change is what software development is very much about.',\n",
       " 'changes in the software being built, changes to the team members, changes because of new technology, changes of all kinds that may have an impact on the product they build or the project that creates the product.',\n",
       " 'support for changes should be built-in everything we do in software, something we embrace because it is the heart and soul of software.',\n",
       " 'an agile team recognizes that software is developed by individuals working in teams and that the skills of these people, their ability to collaborate is at the core for the success of the project.in jacobson’s view, the pervasiveness of change is the primary driver for agility.',\n",
       " 'software engineers must be quick on their feet if they are to accommodate the rapid changes that jacobson describes.',\n",
       " 'but agility is more than an effective response to change.',\n",
       " 'it also encompasses the philosophy espoused in the manifesto noted at the beginning of this chapter.',\n",
       " 'it encourages team structures and attitudes that make communication (among team members, between technologists and business people, between software engineers and their managers) more facile.',\n",
       " 'it emphasizes rapid delivery of operational software and deemphasizes the importance of intermediate work products (not always a good thing); it adopts the customer as a part of the development team and works to eliminate the “us and them” attitude that continues to pervade many software projects; it recognizes that planning in an uncertain world has its limits and that a project plan must be ﬂ exible.',\n",
       " 'agility can be applied to any software process.',\n",
       " 'however, to accomplish this, it is essential that the process be designed in a way that allows the project team to adapt tasks and to streamline them, conduct planning in a way that understands the ﬂ uidity of an agile development approach, eliminate all but the most essential work products and keep them lean, and emphasize an incremental delivery strategy that gets working software to the customer as rapidly as feasible for the product type and operational environment. ]',\n",
       " 'index: []']"
      ]
     },
     "execution_count": 12,
     "metadata": {},
     "output_type": "execute_result"
    }
   ],
   "source": [
    "# split into sentence list\n",
    "sentence_list = sent_tokenize(article_text)\n",
    "sentence_list"
   ]
  },
  {
   "cell_type": "code",
   "execution_count": 13,
   "id": "80be9361-2d77-4082-b76d-a5f45720073b",
   "metadata": {},
   "outputs": [],
   "source": [
    "sentence_scores = {}\n",
    "\n",
    "for sentence in sentence_list:\n",
    "    if len(sentence.split()) < 40: # skip sentences longer than 40 words\n",
    "        for word in word_tokenize(sentence):\n",
    "            if word in word_frequencies:\n",
    "                if sentence not in sentence_scores: \n",
    "                    # add the word's frequency to the sentence score if it exits, this is done to get the total\n",
    "                    # frequency score of all words in a sentence. The sentences will be prioritized based on their frequency scores. \n",
    "                    sentence_scores[sentence] = word_frequencies[word]\n",
    "                else:\n",
    "                    sentence_scores[sentence] += word_frequencies[word]            "
   ]
  },
  {
   "cell_type": "code",
   "execution_count": 14,
   "id": "ebaad990-7ea6-4f96-b05d-a0f3cdb76611",
   "metadata": {},
   "outputs": [
    {
     "data": {
      "text/plain": [
       "{'empty dataframe\\ncolumns: [just what is agility in the context of software engineering work?': 2.0,\n",
       " 'ivar jacobson [jac02a] provides a useful di scussion: agility has become today’s buzzword when describing a modern software process.': 2.615384615384615,\n",
       " 'everyone is agile.': 0.38461538461538464,\n",
       " 'an agile team is a nimble team able to appropriately respond to changes.': 2.3846153846153846,\n",
       " 'change is what software development is very much about.': 1.5384615384615385,\n",
       " 'changes in the software being built, changes to the team members, changes because of new technology, changes of all kinds that may have an impact on the product they build or the project that creates the product.': 5.384615384615383,\n",
       " 'support for changes should be built-in everything we do in software, something we embrace because it is the heart and soul of software.': 3.0,\n",
       " 'software engineers must be quick on their feet if they are to accommodate the rapid changes that jacobson describes.': 2.5384615384615383,\n",
       " 'but agility is more than an effective response to change.': 0.7692307692307694,\n",
       " 'it also encompasses the philosophy espoused in the manifesto noted at the beginning of this chapter.': 0.6153846153846154,\n",
       " 'it encourages team structures and attitudes that make communication (among team members, between technologists and business people, between software engineers and their managers) more facile.': 3.4615384615384612,\n",
       " 'agility can be applied to any software process.': 1.6923076923076925,\n",
       " 'index: []': 0.07692307692307693}"
      ]
     },
     "execution_count": 14,
     "metadata": {},
     "output_type": "execute_result"
    }
   ],
   "source": [
    "sentence_scores"
   ]
  },
  {
   "cell_type": "code",
   "execution_count": 15,
   "id": "d4194fe3-c6d0-43bc-80cc-e202fe4709b3",
   "metadata": {},
   "outputs": [
    {
     "name": "stdout",
     "output_type": "stream",
     "text": [
      "> Summary: \n",
      "- changes in the software being built, changes to the team members, changes because of new technology, changes of all kinds that may have an impact on the product they build or the project that creates the product.\n",
      "- it encourages team structures and attitudes that make communication (among team members, between technologists and business people, between software engineers and their managers) more facile.\n",
      "- support for changes should be built-in everything we do in software, something we embrace because it is the heart and soul of software.\n",
      "- ivar jacobson [jac02a] provides a useful di scussion: agility has become today’s buzzword when describing a modern software process.\n",
      "- software engineers must be quick on their feet if they are to accommodate the rapid changes that jacobson describes.\n"
     ]
    }
   ],
   "source": [
    "#  Get the summary of top 5 sentences from sentence_scores dict\n",
    "\n",
    "import heapq\n",
    "summary = heapq.nlargest(5, sentence_scores, key= sentence_scores.get)\n",
    "\n",
    "#  print summary with each sentence on a new line\n",
    "print(\"> Summary: \")\n",
    "for sentence in summary:\n",
    "    print(\"- \"+sentence)"
   ]
  },
  {
   "cell_type": "code",
   "execution_count": null,
   "id": "6d3bc8a9-0149-48d7-a990-b365b454b2a5",
   "metadata": {},
   "outputs": [],
   "source": []
  }
 ],
 "metadata": {
  "kernelspec": {
   "display_name": "Python 3 (ipykernel)",
   "language": "python",
   "name": "python3"
  },
  "language_info": {
   "codemirror_mode": {
    "name": "ipython",
    "version": 3
   },
   "file_extension": ".py",
   "mimetype": "text/x-python",
   "name": "python",
   "nbconvert_exporter": "python",
   "pygments_lexer": "ipython3",
   "version": "3.12.7"
  }
 },
 "nbformat": 4,
 "nbformat_minor": 5
}
